{
  "cells": [
    {
      "cell_type": "markdown",
      "metadata": {
        "id": "view-in-github",
        "colab_type": "text"
      },
      "source": [
        "<a href=\"https://colab.research.google.com/github/ChuquEmeka/Niit-Linear-Regression/blob/main/Niit_Linear_Regression.ipynb\" target=\"_parent\"><img src=\"https://colab.research.google.com/assets/colab-badge.svg\" alt=\"Open In Colab\"/></a>"
      ]
    },
    {
      "cell_type": "markdown",
      "id": "14b7272d-e0ef-4765-bcf9-e1e67e2449ed",
      "metadata": {
        "id": "14b7272d-e0ef-4765-bcf9-e1e67e2449ed"
      },
      "source": [
        "#### Regression -- Linear Regression\n",
        "\n",
        "##### A linear regression is a statistical model that analyzes the relationship between a response variable (often called y) and one or more variables and their interactions (often called x or explanatory variables).\n",
        "\n",
        "Edeh Emeka N\n"
      ]
    },
    {
      "cell_type": "code",
      "execution_count": null,
      "id": "b4055041-4987-45bc-b234-b574d4be9d17",
      "metadata": {
        "id": "b4055041-4987-45bc-b234-b574d4be9d17",
        "outputId": "1b0af68b-bc53-43a2-bc75-4a4539e57f87"
      },
      "outputs": [
        {
          "name": "stderr",
          "output_type": "stream",
          "text": [
            "also installing the dependencies 'rematch', 'cellranger'\n",
            "\n"
          ]
        },
        {
          "name": "stdout",
          "output_type": "stream",
          "text": [
            "package 'rematch' successfully unpacked and MD5 sums checked\n",
            "package 'cellranger' successfully unpacked and MD5 sums checked\n",
            "package 'readxl' successfully unpacked and MD5 sums checked\n",
            "\n",
            "The downloaded binary packages are in\n",
            "\tC:\\Users\\EDEH EMEKA NWEKE\\AppData\\Local\\Temp\\RtmpK45vdS\\downloaded_packages\n"
          ]
        }
      ],
      "source": [
        "install.packages('readxl')"
      ]
    },
    {
      "cell_type": "code",
      "execution_count": null,
      "id": "382227da-887d-4966-b965-22b81e7aa488",
      "metadata": {
        "id": "382227da-887d-4966-b965-22b81e7aa488",
        "outputId": "1d131acb-d6c8-4fcd-e973-e38d60f30db1"
      },
      "outputs": [
        {
          "name": "stderr",
          "output_type": "stream",
          "text": [
            "Warning message:\n",
            "\"package 'readxl' was built under R version 3.6.3\""
          ]
        }
      ],
      "source": [
        "library(readxl)\n",
        "ah<- read_excel(\"ageandheight.xls\", sheet = \"Hoja2\") #Upload the data"
      ]
    },
    {
      "cell_type": "code",
      "execution_count": null,
      "id": "91f3f465-28a0-4cc6-b8c4-393793744a6e",
      "metadata": {
        "id": "91f3f465-28a0-4cc6-b8c4-393793744a6e",
        "outputId": "cb18fffe-7dd4-4d1a-ab8d-bb483756c104"
      },
      "outputs": [
        {
          "data": {
            "text/html": [
              "<table>\n",
              "<thead><tr><th scope=col>age</th><th scope=col>height</th><th scope=col>no_siblings</th></tr></thead>\n",
              "<tbody>\n",
              "\t<tr><td>18   </td><td>76.10</td><td>1    </td></tr>\n",
              "\t<tr><td>19   </td><td>77.00</td><td>2    </td></tr>\n",
              "\t<tr><td>20   </td><td>78.10</td><td>3    </td></tr>\n",
              "\t<tr><td>21   </td><td>78.20</td><td>2    </td></tr>\n",
              "\t<tr><td>22   </td><td>78.80</td><td>0    </td></tr>\n",
              "\t<tr><td>23   </td><td>79.70</td><td>1    </td></tr>\n",
              "\t<tr><td>24   </td><td> 7.99</td><td>5    </td></tr>\n",
              "\t<tr><td>25   </td><td>81.10</td><td>0    </td></tr>\n",
              "\t<tr><td>26   </td><td>81.20</td><td>1    </td></tr>\n",
              "\t<tr><td>27   </td><td>81.80</td><td>4    </td></tr>\n",
              "\t<tr><td>28   </td><td>82.80</td><td>1    </td></tr>\n",
              "\t<tr><td>29   </td><td>83.50</td><td>5    </td></tr>\n",
              "</tbody>\n",
              "</table>\n"
            ],
            "text/latex": [
              "\\begin{tabular}{r|lll}\n",
              " age & height & no\\_siblings\\\\\n",
              "\\hline\n",
              "\t 18    & 76.10 & 1    \\\\\n",
              "\t 19    & 77.00 & 2    \\\\\n",
              "\t 20    & 78.10 & 3    \\\\\n",
              "\t 21    & 78.20 & 2    \\\\\n",
              "\t 22    & 78.80 & 0    \\\\\n",
              "\t 23    & 79.70 & 1    \\\\\n",
              "\t 24    &  7.99 & 5    \\\\\n",
              "\t 25    & 81.10 & 0    \\\\\n",
              "\t 26    & 81.20 & 1    \\\\\n",
              "\t 27    & 81.80 & 4    \\\\\n",
              "\t 28    & 82.80 & 1    \\\\\n",
              "\t 29    & 83.50 & 5    \\\\\n",
              "\\end{tabular}\n"
            ],
            "text/markdown": [
              "\n",
              "| age | height | no_siblings |\n",
              "|---|---|---|\n",
              "| 18    | 76.10 | 1     |\n",
              "| 19    | 77.00 | 2     |\n",
              "| 20    | 78.10 | 3     |\n",
              "| 21    | 78.20 | 2     |\n",
              "| 22    | 78.80 | 0     |\n",
              "| 23    | 79.70 | 1     |\n",
              "| 24    |  7.99 | 5     |\n",
              "| 25    | 81.10 | 0     |\n",
              "| 26    | 81.20 | 1     |\n",
              "| 27    | 81.80 | 4     |\n",
              "| 28    | 82.80 | 1     |\n",
              "| 29    | 83.50 | 5     |\n",
              "\n"
            ],
            "text/plain": [
              "   age height no_siblings\n",
              "1  18  76.10  1          \n",
              "2  19  77.00  2          \n",
              "3  20  78.10  3          \n",
              "4  21  78.20  2          \n",
              "5  22  78.80  0          \n",
              "6  23  79.70  1          \n",
              "7  24   7.99  5          \n",
              "8  25  81.10  0          \n",
              "9  26  81.20  1          \n",
              "10 27  81.80  4          \n",
              "11 28  82.80  1          \n",
              "12 29  83.50  5          "
            ]
          },
          "metadata": {},
          "output_type": "display_data"
        }
      ],
      "source": [
        "ah"
      ]
    },
    {
      "cell_type": "code",
      "execution_count": null,
      "id": "a85514d9-fa04-40ea-89c8-bb35f4e3ba30",
      "metadata": {
        "id": "a85514d9-fa04-40ea-89c8-bb35f4e3ba30"
      },
      "outputs": [],
      "source": [
        "#stats\n",
        "#syntax: model <- lm(y~x, data = data_source)"
      ]
    },
    {
      "cell_type": "code",
      "execution_count": null,
      "id": "87fda519-4b23-428e-bbe5-34107864d427",
      "metadata": {
        "id": "87fda519-4b23-428e-bbe5-34107864d427",
        "outputId": "158be28f-094d-49ff-ac63-86657262cf89"
      },
      "outputs": [
        {
          "data": {
            "text/plain": [
              "\n",
              "Call:\n",
              "lm(formula = height ~ age, data = ah)\n",
              "\n",
              "Residuals:\n",
              "    Min      1Q  Median      3Q     Max \n",
              "-66.059   5.193   5.810   6.617   7.533 \n",
              "\n",
              "Coefficients:\n",
              "            Estimate Std. Error t value Pr(>|t|)\n",
              "(Intercept)  64.8445    43.3815   1.495    0.166\n",
              "age           0.3835     1.8264   0.210    0.838\n",
              "\n",
              "Residual standard error: 21.84 on 10 degrees of freedom\n",
              "Multiple R-squared:  0.00439,\tAdjusted R-squared:  -0.09517 \n",
              "F-statistic: 0.0441 on 1 and 10 DF,  p-value: 0.8379\n"
            ]
          },
          "metadata": {},
          "output_type": "display_data"
        }
      ],
      "source": [
        "lmHeight <- lm(height~age, data = ah) #Create the linear regression\n",
        "summary(lmHeight)"
      ]
    },
    {
      "cell_type": "code",
      "execution_count": null,
      "id": "d7895429-6907-4d49-92e3-7c9cb1af6947",
      "metadata": {
        "id": "d7895429-6907-4d49-92e3-7c9cb1af6947",
        "outputId": "15fb6ca1-1323-4afe-d630-bbc182efe8d3"
      },
      "outputs": [
        {
          "data": {
            "image/png": "[encoded data removed]",
            "text/plain": [
              "plot without title"
            ]
          },
          "metadata": {},
          "output_type": "display_data"
        }
      ],
      "source": [
        "plot(ah$height~ah$age,xlim=c(20, 80), ylim=c(10,90))\n",
        "abline(lm(ah$height~ah$age))"
      ]
    },
    {
      "cell_type": "code",
      "execution_count": null,
      "id": "af1dc0f6-9376-412b-8a68-d6d4b65f07a2",
      "metadata": {
        "id": "af1dc0f6-9376-412b-8a68-d6d4b65f07a2",
        "outputId": "73d903a5-03a6-4980-f260-e982591c6130"
      },
      "outputs": [
        {
          "data": {
            "text/plain": [
              "\n",
              "Call:\n",
              "lm(formula = height ~ ., data = ah)\n",
              "\n",
              "Residuals:\n",
              "    Min      1Q  Median      3Q     Max \n",
              "-47.808  -4.521   1.002  10.025  21.186 \n",
              "\n",
              "Coefficients:\n",
              "            Estimate Std. Error t value Pr(>|t|)  \n",
              "(Intercept)   56.597     39.166   1.445   0.1823  \n",
              "age            1.303      1.712   0.761   0.4660  \n",
              "no_siblings   -6.415      3.464  -1.852   0.0971 .\n",
              "---\n",
              "Signif. codes:  0 '***' 0.001 '**' 0.01 '*' 0.05 '.' 0.1 ' ' 1\n",
              "\n",
              "Residual standard error: 19.59 on 9 degrees of freedom\n",
              "Multiple R-squared:  0.2791,\tAdjusted R-squared:  0.1189 \n",
              "F-statistic: 1.742 on 2 and 9 DF,  p-value: 0.2293\n"
            ]
          },
          "metadata": {},
          "output_type": "display_data"
        }
      ],
      "source": [
        "#Multiple Linear Regression\n",
        "lmHeSib <- lm(height ~., data = ah)\n",
        "summary(lmHeSib)"
      ]
    },
    {
      "cell_type": "markdown",
      "id": "1cc53857-eee0-4c8a-a562-18e977c9fcf1",
      "metadata": {
        "id": "1cc53857-eee0-4c8a-a562-18e977c9fcf1"
      },
      "source": [
        "In this case, we have two different slops(age and no_siblings) and an intercept"
      ]
    },
    {
      "cell_type": "code",
      "execution_count": null,
      "id": "a1d84936-335c-4696-b6c4-2ab32c8d8b5c",
      "metadata": {
        "id": "a1d84936-335c-4696-b6c4-2ab32c8d8b5c",
        "outputId": "3fb8ec3c-344a-450d-b648-b0f499d85857"
      },
      "outputs": [
        {
          "data": {
            "image/png": "[encoded data removed]",
            "text/plain": [
              "Plot with title \"\""
            ]
          },
          "metadata": {},
          "output_type": "display_data"
        },
        {
          "data": {
            "image/png": "[encoded data removed]",
            "text/plain": [
              "Plot with title \"\""
            ]
          },
          "metadata": {},
          "output_type": "display_data"
        },
        {
          "data": {
            "image/png": "[encoded data removed]",
            "text/plain": [
              "Plot with title \"\""
            ]
          },
          "metadata": {},
          "output_type": "display_data"
        },
        {
          "data": {
            "image/png": "[encoded data removed]",
            "text/plain": [
              "Plot with title \"\""
            ]
          },
          "metadata": {},
          "output_type": "display_data"
        }
      ],
      "source": [
        "plot(lmHeSib)"
      ]
    },
    {
      "cell_type": "markdown",
      "id": "f654325e-8eef-4626-a1a6-0a6798310e80",
      "metadata": {
        "id": "f654325e-8eef-4626-a1a6-0a6798310e80"
      },
      "source": [
        "Slope and Intercept from the summary\n",
        "\n",
        "Another Example\n",
        "\n",
        "Steps to Establish a Regression\n",
        "A simple example of regression is predicting weight of a person when his height is known. To do this we need to have the relationship between height and weight of a person.\n",
        " \n",
        "The steps to create the relationship is ???\n",
        "\n",
        "Carry out the experiment of gathering a sample of observed values of height and corresponding weight.\n",
        "\n",
        "Create a relationship model using the lm() functions in R.\n",
        "\n",
        "Find the coefficients from the model created and create the mathematical equation using these\n",
        " \n",
        "Get a summary of the relationship model to know the average error in prediction. Also called residuals.\n",
        " \n",
        "To predict the weight of new persons, use the predict() function in R.\n"
      ]
    },
    {
      "cell_type": "code",
      "execution_count": null,
      "id": "3c40f965-f6f5-4589-9651-9c7056d1bf79",
      "metadata": {
        "id": "3c40f965-f6f5-4589-9651-9c7056d1bf79"
      },
      "outputs": [],
      "source": [
        "height <- c(151, 174, 138, 186, 128, 136, 179, 163, 152, 131)\n",
        "weight <- c(63, 81, 56, 91, 47, 57, 76, 72, 62, 48)"
      ]
    },
    {
      "cell_type": "code",
      "execution_count": null,
      "id": "04a99bd9-6164-438a-9856-ae5763c51a40",
      "metadata": {
        "id": "04a99bd9-6164-438a-9856-ae5763c51a40",
        "outputId": "80647c3f-5fe4-4931-decb-e92db6f9b226"
      },
      "outputs": [
        {
          "name": "stdout",
          "output_type": "stream",
          "text": [
            "\n",
            "Call:\n",
            "lm(formula = weight ~ height)\n",
            "\n",
            "Coefficients:\n",
            "(Intercept)       height  \n",
            "   -38.4551       0.6746  \n",
            "\n",
            "\n",
            "Call:\n",
            "lm(formula = weight ~ height)\n",
            "\n",
            "Residuals:\n",
            "    Min      1Q  Median      3Q     Max \n",
            "-6.3002 -1.6629  0.0412  1.8944  3.9775 \n",
            "\n",
            "Coefficients:\n",
            "             Estimate Std. Error t value Pr(>|t|)    \n",
            "(Intercept) -38.45509    8.04901  -4.778  0.00139 ** \n",
            "height        0.67461    0.05191  12.997 1.16e-06 ***\n",
            "---\n",
            "Signif. codes:  0 '***' 0.001 '**' 0.01 '*' 0.05 '.' 0.1 ' ' 1\n",
            "\n",
            "Residual standard error: 3.253 on 8 degrees of freedom\n",
            "Multiple R-squared:  0.9548,\tAdjusted R-squared:  0.9491 \n",
            "F-statistic: 168.9 on 1 and 8 DF,  p-value: 1.164e-06\n",
            "\n"
          ]
        }
      ],
      "source": [
        "# Apply the lm() function.\n",
        "relation <- lm(weight~height)\n",
        "\n",
        "print(relation)\n",
        "print(summary(relation))\n"
      ]
    },
    {
      "cell_type": "code",
      "execution_count": null,
      "id": "4ba640d0-0163-4362-a81f-df82774f541b",
      "metadata": {
        "id": "4ba640d0-0163-4362-a81f-df82774f541b",
        "outputId": "e7bc4f64-1168-477e-d393-4d8bc80b233b"
      },
      "outputs": [
        {
          "data": {
            "text/html": [
              "<table>\n",
              "<thead><tr><th scope=col>height</th></tr></thead>\n",
              "<tbody>\n",
              "\t<tr><td>170</td></tr>\n",
              "</tbody>\n",
              "</table>\n"
            ],
            "text/latex": [
              "\\begin{tabular}{r|l}\n",
              " height\\\\\n",
              "\\hline\n",
              "\t 170\\\\\n",
              "\\end{tabular}\n"
            ],
            "text/markdown": [
              "\n",
              "| height |\n",
              "|---|\n",
              "| 170 |\n",
              "\n"
            ],
            "text/plain": [
              "  height\n",
              "1 170   "
            ]
          },
          "metadata": {},
          "output_type": "display_data"
        }
      ],
      "source": [
        "#Prediction with the model\n",
        "b <- data.frame(height = 170)\n",
        "b"
      ]
    },
    {
      "cell_type": "code",
      "execution_count": null,
      "id": "6457759b-e333-475a-a92f-7310bcdd9ca1",
      "metadata": {
        "id": "6457759b-e333-475a-a92f-7310bcdd9ca1",
        "outputId": "3045b1d1-1948-4e53-85e4-df6578ce0ada"
      },
      "outputs": [
        {
          "name": "stdout",
          "output_type": "stream",
          "text": [
            "       1 \n",
            "76.22869 \n"
          ]
        }
      ],
      "source": [
        "#prd <- predict(model, data)\n",
        "\n",
        "result <-  predict(relation,b)\n",
        "print(result)"
      ]
    },
    {
      "cell_type": "code",
      "execution_count": null,
      "id": "951f983b-6eae-4ae9-b34a-5799799ac853",
      "metadata": {
        "id": "951f983b-6eae-4ae9-b34a-5799799ac853"
      },
      "outputs": [],
      "source": [
        "#prediction on multiple heights\n",
        "h <- data.frame(height = c(200, 60, 89, 190, 700))"
      ]
    },
    {
      "cell_type": "code",
      "execution_count": null,
      "id": "8c4661b4-a5ce-4910-84f2-04c144d03b1b",
      "metadata": {
        "id": "8c4661b4-a5ce-4910-84f2-04c144d03b1b"
      },
      "outputs": [],
      "source": [
        "result2 <-  predict(relation,h)"
      ]
    },
    {
      "cell_type": "code",
      "execution_count": null,
      "id": "846f6e58-0353-4402-8f43-1d92d4537d89",
      "metadata": {
        "id": "846f6e58-0353-4402-8f43-1d92d4537d89",
        "outputId": "0c560394-3493-45f7-afd0-72a538d9bd09"
      },
      "outputs": [
        {
          "name": "stdout",
          "output_type": "stream",
          "text": [
            "        1         2         3         4         5 \n",
            " 96.46700   2.02154  21.58524  89.72090 433.77223 \n"
          ]
        }
      ],
      "source": [
        "print(result2)"
      ]
    },
    {
      "cell_type": "code",
      "execution_count": null,
      "id": "49037d6c-037e-4545-bb17-e2f51aa4a88d",
      "metadata": {
        "id": "49037d6c-037e-4545-bb17-e2f51aa4a88d"
      },
      "outputs": [],
      "source": [
        "# Give the chart file a name.\n",
        "png(file = \"linearregression.png\")"
      ]
    },
    {
      "cell_type": "code",
      "execution_count": null,
      "id": "7cf3f908-075a-4fef-a2cd-6a3d67b0d2e2",
      "metadata": {
        "id": "7cf3f908-075a-4fef-a2cd-6a3d67b0d2e2",
        "outputId": "d0b36086-5ad5-4483-b17a-6ab5e9a46ad3"
      },
      "outputs": [
        {
          "data": {
            "image/png": "[encoded data removed]",
            "text/plain": [
              "Plot with title \"Height & Weight Regression\""
            ]
          },
          "metadata": {},
          "output_type": "display_data"
        }
      ],
      "source": [
        "# Plot the chart.\n",
        "plot(height,weight,col = \"blue\",main = \"Height & Weight Regression\",\n",
        "     abline(lm(height~weight), lty = 1),cex = 1.3,pch = 16,xlab = \"Weight in Kg\",\n",
        "     ylab = \"Height in cm\")"
      ]
    },
    {
      "cell_type": "code",
      "execution_count": null,
      "id": "6c2e8488-e5c6-42d5-b129-45c35fc11b87",
      "metadata": {
        "id": "6c2e8488-e5c6-42d5-b129-45c35fc11b87"
      },
      "outputs": [],
      "source": [
        "#predicting medical expenses using linear expression.\n",
        "\n",
        "#STEP 1: Exploring and preparing the data\n",
        "\n",
        "insurance <- read.csv(\"insurance.csv\", stringsAsFactors = TRUE)"
      ]
    },
    {
      "cell_type": "code",
      "execution_count": null,
      "id": "8cd9f23c-834e-4e24-99ac-3f63b6382340",
      "metadata": {
        "id": "8cd9f23c-834e-4e24-99ac-3f63b6382340",
        "outputId": "b8c77d1f-7ab3-4119-de00-8415b96843b6"
      },
      "outputs": [
        {
          "data": {
            "text/html": [
              "<table>\n",
              "<thead><tr><th scope=col>age</th><th scope=col>sex</th><th scope=col>bmi</th><th scope=col>children</th><th scope=col>smoker</th><th scope=col>region</th><th scope=col>charges</th></tr></thead>\n",
              "<tbody>\n",
              "\t<tr><td>19       </td><td>female   </td><td>27.900   </td><td>0        </td><td>yes      </td><td>southwest</td><td>16884.924</td></tr>\n",
              "\t<tr><td>18       </td><td>male     </td><td>33.770   </td><td>1        </td><td>no       </td><td>southeast</td><td> 1725.552</td></tr>\n",
              "\t<tr><td>28       </td><td>male     </td><td>33.000   </td><td>3        </td><td>no       </td><td>southeast</td><td> 4449.462</td></tr>\n",
              "\t<tr><td>33       </td><td>male     </td><td>22.705   </td><td>0        </td><td>no       </td><td>northwest</td><td>21984.471</td></tr>\n",
              "\t<tr><td>32       </td><td>male     </td><td>28.880   </td><td>0        </td><td>no       </td><td>northwest</td><td> 3866.855</td></tr>\n",
              "\t<tr><td>31       </td><td>female   </td><td>25.740   </td><td>0        </td><td>no       </td><td>southeast</td><td> 3756.622</td></tr>\n",
              "</tbody>\n",
              "</table>\n"
            ],
            "text/latex": [
              "\\begin{tabular}{r|lllllll}\n",
              " age & sex & bmi & children & smoker & region & charges\\\\\n",
              "\\hline\n",
              "\t 19        & female    & 27.900    & 0         & yes       & southwest & 16884.924\\\\\n",
              "\t 18        & male      & 33.770    & 1         & no        & southeast &  1725.552\\\\\n",
              "\t 28        & male      & 33.000    & 3         & no        & southeast &  4449.462\\\\\n",
              "\t 33        & male      & 22.705    & 0         & no        & northwest & 21984.471\\\\\n",
              "\t 32        & male      & 28.880    & 0         & no        & northwest &  3866.855\\\\\n",
              "\t 31        & female    & 25.740    & 0         & no        & southeast &  3756.622\\\\\n",
              "\\end{tabular}\n"
            ],
            "text/markdown": [
              "\n",
              "| age | sex | bmi | children | smoker | region | charges |\n",
              "|---|---|---|---|---|---|---|\n",
              "| 19        | female    | 27.900    | 0         | yes       | southwest | 16884.924 |\n",
              "| 18        | male      | 33.770    | 1         | no        | southeast |  1725.552 |\n",
              "| 28        | male      | 33.000    | 3         | no        | southeast |  4449.462 |\n",
              "| 33        | male      | 22.705    | 0         | no        | northwest | 21984.471 |\n",
              "| 32        | male      | 28.880    | 0         | no        | northwest |  3866.855 |\n",
              "| 31        | female    | 25.740    | 0         | no        | southeast |  3756.622 |\n",
              "\n"
            ],
            "text/plain": [
              "  age sex    bmi    children smoker region    charges  \n",
              "1 19  female 27.900 0        yes    southwest 16884.924\n",
              "2 18  male   33.770 1        no     southeast  1725.552\n",
              "3 28  male   33.000 3        no     southeast  4449.462\n",
              "4 33  male   22.705 0        no     northwest 21984.471\n",
              "5 32  male   28.880 0        no     northwest  3866.855\n",
              "6 31  female 25.740 0        no     southeast  3756.622"
            ]
          },
          "metadata": {},
          "output_type": "display_data"
        },
        {
          "name": "stdout",
          "output_type": "stream",
          "text": [
            "'data.frame':\t1338 obs. of  7 variables:\n",
            " $ age     : int  19 18 28 33 32 31 46 37 37 60 ...\n",
            " $ sex     : Factor w/ 2 levels \"female\",\"male\": 1 2 2 2 2 1 1 1 2 1 ...\n",
            " $ bmi     : num  27.9 33.8 33 22.7 28.9 ...\n",
            " $ children: int  0 1 3 0 0 0 1 3 2 0 ...\n",
            " $ smoker  : Factor w/ 2 levels \"no\",\"yes\": 2 1 1 1 1 1 1 1 1 1 ...\n",
            " $ region  : Factor w/ 4 levels \"northeast\",\"northwest\",..: 4 3 3 2 2 3 3 2 1 2 ...\n",
            " $ charges : num  16885 1726 4449 21984 3867 ...\n"
          ]
        },
        {
          "data": {
            "text/plain": [
              "   Min. 1st Qu.  Median    Mean 3rd Qu.    Max. \n",
              "   1122    4740    9382   13270   16640   63770 "
            ]
          },
          "metadata": {},
          "output_type": "display_data"
        }
      ],
      "source": [
        "head(insurance)\n",
        "str(insurance)\n",
        "summary(insurance$charges)"
      ]
    },
    {
      "cell_type": "code",
      "execution_count": null,
      "id": "86744650-8075-4988-afc5-df646ecea306",
      "metadata": {
        "id": "86744650-8075-4988-afc5-df646ecea306",
        "outputId": "554b4311-e2f6-47d0-87b5-7c6f089e88f0"
      },
      "outputs": [
        {
          "data": {
            "image/png": "[encoded data removed]",
            "text/plain": [
              "Plot with title \"Histogram of insurance$charges\""
            ]
          },
          "metadata": {},
          "output_type": "display_data"
        }
      ],
      "source": [
        "hist(insurance$charges)"
      ]
    },
    {
      "cell_type": "code",
      "execution_count": null,
      "id": "7685ad97-a0a3-443c-81f6-620176e74c23",
      "metadata": {
        "id": "7685ad97-a0a3-443c-81f6-620176e74c23",
        "outputId": "fe451134-f49a-4716-f263-f4c1a824aedd"
      },
      "outputs": [
        {
          "data": {
            "text/plain": [
              "\n",
              "northeast northwest southeast southwest \n",
              "      324       325       364       325 "
            ]
          },
          "metadata": {},
          "output_type": "display_data"
        }
      ],
      "source": [
        "table(insurance$region)"
      ]
    },
    {
      "cell_type": "code",
      "execution_count": null,
      "id": "5cd3937e-caed-4593-8522-28f4620f98db",
      "metadata": {
        "id": "5cd3937e-caed-4593-8522-28f4620f98db",
        "outputId": "f54a265a-e30a-4452-f95b-7c54e1c556b1"
      },
      "outputs": [
        {
          "data": {
            "text/html": [
              "<table>\n",
              "<thead><tr><th></th><th scope=col>age</th><th scope=col>bmi</th><th scope=col>children</th><th scope=col>charges</th></tr></thead>\n",
              "<tbody>\n",
              "\t<tr><th scope=row>age</th><td>1.0000000 </td><td>0.1092719 </td><td>0.04246900</td><td>0.29900819</td></tr>\n",
              "\t<tr><th scope=row>bmi</th><td>0.1092719 </td><td>1.0000000 </td><td>0.01275890</td><td>0.19834097</td></tr>\n",
              "\t<tr><th scope=row>children</th><td>0.0424690 </td><td>0.0127589 </td><td>1.00000000</td><td>0.06799823</td></tr>\n",
              "\t<tr><th scope=row>charges</th><td>0.2990082 </td><td>0.1983410 </td><td>0.06799823</td><td>1.00000000</td></tr>\n",
              "</tbody>\n",
              "</table>\n"
            ],
            "text/latex": [
              "\\begin{tabular}{r|llll}\n",
              "  & age & bmi & children & charges\\\\\n",
              "\\hline\n",
              "\tage & 1.0000000  & 0.1092719  & 0.04246900 & 0.29900819\\\\\n",
              "\tbmi & 0.1092719  & 1.0000000  & 0.01275890 & 0.19834097\\\\\n",
              "\tchildren & 0.0424690  & 0.0127589  & 1.00000000 & 0.06799823\\\\\n",
              "\tcharges & 0.2990082  & 0.1983410  & 0.06799823 & 1.00000000\\\\\n",
              "\\end{tabular}\n"
            ],
            "text/markdown": [
              "\n",
              "| <!--/--> | age | bmi | children | charges |\n",
              "|---|---|---|---|---|\n",
              "| age | 1.0000000  | 0.1092719  | 0.04246900 | 0.29900819 |\n",
              "| bmi | 0.1092719  | 1.0000000  | 0.01275890 | 0.19834097 |\n",
              "| children | 0.0424690  | 0.0127589  | 1.00000000 | 0.06799823 |\n",
              "| charges | 0.2990082  | 0.1983410  | 0.06799823 | 1.00000000 |\n",
              "\n"
            ],
            "text/plain": [
              "         age       bmi       children   charges   \n",
              "age      1.0000000 0.1092719 0.04246900 0.29900819\n",
              "bmi      0.1092719 1.0000000 0.01275890 0.19834097\n",
              "children 0.0424690 0.0127589 1.00000000 0.06799823\n",
              "charges  0.2990082 0.1983410 0.06799823 1.00000000"
            ]
          },
          "metadata": {},
          "output_type": "display_data"
        }
      ],
      "source": [
        "#Exploring the relationship among Features - The Correlation Matrix\n",
        "insu_sel <- insurance[c(\"age\",\"bmi\",\"children\",\"charges\")]\n",
        "cor(insu_sel)"
      ]
    },
    {
      "cell_type": "code",
      "execution_count": null,
      "id": "137b618c-1189-4037-ad53-300bf4e43c4f",
      "metadata": {
        "id": "137b618c-1189-4037-ad53-300bf4e43c4f",
        "outputId": "c700b54c-6b6f-4d90-aa3a-7040456c79c9"
      },
      "outputs": [
        {
          "data": {
            "image/png": "[encoded data removed]",
            "text/plain": [
              "plot without title"
            ]
          },
          "metadata": {},
          "output_type": "display_data"
        }
      ],
      "source": [
        "#Visualizing relationships among features - The Scatterplot Matrix\n",
        "pairs(insu_sel)"
      ]
    },
    {
      "cell_type": "code",
      "execution_count": null,
      "id": "dbec06e4-f79a-4afd-bf79-d11eb7273c88",
      "metadata": {
        "id": "dbec06e4-f79a-4afd-bf79-d11eb7273c88",
        "outputId": "fe302169-c186-4942-c49d-192ead808e64"
      },
      "outputs": [
        {
          "name": "stderr",
          "output_type": "stream",
          "text": [
            "also installing the dependencies 'tmvnsim', 'mnormt', 'nlme'\n",
            "\n"
          ]
        },
        {
          "name": "stdout",
          "output_type": "stream",
          "text": [
            "\n",
            "  There are binary versions available but the source versions are later:\n",
            "       binary  source needs_compilation\n",
            "nlme  3.1-152 3.1-155              TRUE\n",
            "psych   2.1.3   2.1.9             FALSE\n",
            "\n",
            "  Binaries will be installed\n",
            "package 'tmvnsim' successfully unpacked and MD5 sums checked\n",
            "package 'mnormt' successfully unpacked and MD5 sums checked\n",
            "package 'nlme' successfully unpacked and MD5 sums checked\n",
            "\n",
            "The downloaded binary packages are in\n",
            "\tC:\\Users\\EDEH EMEKA NWEKE\\AppData\\Local\\Temp\\RtmpK45vdS\\downloaded_packages\n"
          ]
        },
        {
          "name": "stderr",
          "output_type": "stream",
          "text": [
            "installing the source package 'psych'\n",
            "\n"
          ]
        }
      ],
      "source": [
        "install.packages(\"psych\")\n"
      ]
    },
    {
      "cell_type": "code",
      "execution_count": null,
      "id": "268e222c-3113-4e9f-8c84-22923b828d36",
      "metadata": {
        "id": "268e222c-3113-4e9f-8c84-22923b828d36"
      },
      "outputs": [],
      "source": [
        "library(\"psych\")"
      ]
    },
    {
      "cell_type": "code",
      "execution_count": null,
      "id": "fa01c354-fbaa-4e27-9d59-9d78060c408e",
      "metadata": {
        "id": "fa01c354-fbaa-4e27-9d59-9d78060c408e",
        "outputId": "59772025-5c1b-4b3f-e47c-20c0c460e261"
      },
      "outputs": [
        {
          "data": {
            "image/png": "[encoded data removed]",
            "text/plain": [
              "plot without title"
            ]
          },
          "metadata": {},
          "output_type": "display_data"
        }
      ],
      "source": [
        "pairs.panels(insu_sel)"
      ]
    },
    {
      "cell_type": "code",
      "execution_count": null,
      "id": "9b7e1ac3-9f91-48ec-9c46-8bc17d2e9908",
      "metadata": {
        "id": "9b7e1ac3-9f91-48ec-9c46-8bc17d2e9908",
        "outputId": "edf0d018-3cc5-4f86-cf10-e75b469c46aa"
      },
      "outputs": [
        {
          "name": "stderr",
          "output_type": "stream",
          "text": [
            "also installing the dependencies 'xts', 'quadprog', 'zoo'\n",
            "\n"
          ]
        },
        {
          "name": "stdout",
          "output_type": "stream",
          "text": [
            "package 'xts' successfully unpacked and MD5 sums checked\n",
            "package 'quadprog' successfully unpacked and MD5 sums checked\n",
            "package 'zoo' successfully unpacked and MD5 sums checked\n",
            "package 'PerformanceAnalytics' successfully unpacked and MD5 sums checked\n",
            "\n",
            "The downloaded binary packages are in\n",
            "\tC:\\Users\\EDEH EMEKA NWEKE\\AppData\\Local\\Temp\\RtmpK45vdS\\downloaded_packages\n"
          ]
        }
      ],
      "source": [
        "install.packages(\"PerformanceAnalytics\")"
      ]
    },
    {
      "cell_type": "code",
      "execution_count": null,
      "id": "94066045-30b7-4d43-9688-2037af0f212d",
      "metadata": {
        "id": "94066045-30b7-4d43-9688-2037af0f212d",
        "outputId": "c6adaa6f-ae41-4471-b105-fcb91fc915bf"
      },
      "outputs": [
        {
          "name": "stderr",
          "output_type": "stream",
          "text": [
            "Warning message:\n",
            "\"package 'PerformanceAnalytics' was built under R version 3.6.3\"Loading required package: xts\n",
            "Warning message:\n",
            "\"package 'xts' was built under R version 3.6.3\"Loading required package: zoo\n",
            "Warning message:\n",
            "\"package 'zoo' was built under R version 3.6.3\"\n",
            "Attaching package: 'zoo'\n",
            "\n",
            "The following objects are masked from 'package:base':\n",
            "\n",
            "    as.Date, as.Date.numeric\n",
            "\n",
            "\n",
            "Attaching package: 'PerformanceAnalytics'\n",
            "\n",
            "The following object is masked from 'package:graphics':\n",
            "\n",
            "    legend\n",
            "\n"
          ]
        },
        {
          "data": {
            "image/png": "[encoded data removed]",
            "text/plain": [
              "Plot with title \"\""
            ]
          },
          "metadata": {},
          "output_type": "display_data"
        }
      ],
      "source": [
        "library(PerformanceAnalytics)\n",
        "insu_corrc<- chart.Correlation(insu_sel, histogram = TRUE, pch = 19)"
      ]
    },
    {
      "cell_type": "code",
      "execution_count": null,
      "id": "aa8152f3-9844-4d95-a6a5-bf96d4bc1543",
      "metadata": {
        "id": "aa8152f3-9844-4d95-a6a5-bf96d4bc1543",
        "outputId": "d74ee94a-2661-4cf5-9d32-7396e5e5fcd5"
      },
      "outputs": [
        {
          "data": {
            "text/html": [
              "<table>\n",
              "<thead><tr><th></th><th scope=col>age</th><th scope=col>bmi</th><th scope=col>children</th><th scope=col>charges</th></tr></thead>\n",
              "<tbody>\n",
              "\t<tr><th scope=row>age</th><td>1.0000000 </td><td>0.1092719 </td><td>0.04246900</td><td>0.29900819</td></tr>\n",
              "\t<tr><th scope=row>bmi</th><td>0.1092719 </td><td>1.0000000 </td><td>0.01275890</td><td>0.19834097</td></tr>\n",
              "\t<tr><th scope=row>children</th><td>0.0424690 </td><td>0.0127589 </td><td>1.00000000</td><td>0.06799823</td></tr>\n",
              "\t<tr><th scope=row>charges</th><td>0.2990082 </td><td>0.1983410 </td><td>0.06799823</td><td>1.00000000</td></tr>\n",
              "</tbody>\n",
              "</table>\n"
            ],
            "text/latex": [
              "\\begin{tabular}{r|llll}\n",
              "  & age & bmi & children & charges\\\\\n",
              "\\hline\n",
              "\tage & 1.0000000  & 0.1092719  & 0.04246900 & 0.29900819\\\\\n",
              "\tbmi & 0.1092719  & 1.0000000  & 0.01275890 & 0.19834097\\\\\n",
              "\tchildren & 0.0424690  & 0.0127589  & 1.00000000 & 0.06799823\\\\\n",
              "\tcharges & 0.2990082  & 0.1983410  & 0.06799823 & 1.00000000\\\\\n",
              "\\end{tabular}\n"
            ],
            "text/markdown": [
              "\n",
              "| <!--/--> | age | bmi | children | charges |\n",
              "|---|---|---|---|---|\n",
              "| age | 1.0000000  | 0.1092719  | 0.04246900 | 0.29900819 |\n",
              "| bmi | 0.1092719  | 1.0000000  | 0.01275890 | 0.19834097 |\n",
              "| children | 0.0424690  | 0.0127589  | 1.00000000 | 0.06799823 |\n",
              "| charges | 0.2990082  | 0.1983410  | 0.06799823 | 1.00000000 |\n",
              "\n"
            ],
            "text/plain": [
              "         age       bmi       children   charges   \n",
              "age      1.0000000 0.1092719 0.04246900 0.29900819\n",
              "bmi      0.1092719 1.0000000 0.01275890 0.19834097\n",
              "children 0.0424690 0.0127589 1.00000000 0.06799823\n",
              "charges  0.2990082 0.1983410 0.06799823 1.00000000"
            ]
          },
          "metadata": {},
          "output_type": "display_data"
        }
      ],
      "source": [
        "#Using Heat Map for Correlation\n",
        "cor_col <- colorRampPalette(c(\"blue\", \"white\", \"red\"))(20)\n",
        "insu_correl <- cor(insu_sel)\n",
        "insu_correl"
      ]
    },
    {
      "cell_type": "code",
      "execution_count": null,
      "id": "636a3a73-6eb3-4841-b207-00d2d2577296",
      "metadata": {
        "id": "636a3a73-6eb3-4841-b207-00d2d2577296",
        "outputId": "04f6b98b-8a03-4fc6-8635-a8d8c921605c"
      },
      "outputs": [
        {
          "data": {
            "image/png": "[encoded data removed]",
            "text/plain": [
              "plot without title"
            ]
          },
          "metadata": {},
          "output_type": "display_data"
        }
      ],
      "source": [
        "heatmap_corr <- heatmap(x = insu_correl, col = cor_col, symm = TRUE)"
      ]
    },
    {
      "cell_type": "code",
      "execution_count": null,
      "id": "08989343-59d5-43a2-8d1c-f971079732b1",
      "metadata": {
        "id": "08989343-59d5-43a2-8d1c-f971079732b1",
        "outputId": "a81333ea-7aca-4676-b448-72265ed2868c"
      },
      "outputs": [
        {
          "name": "stdout",
          "output_type": "stream",
          "text": [
            "\n",
            "  There is a binary version available but the source version is later:\n",
            "         binary source needs_compilation\n",
            "corrplot   0.88   0.92             FALSE\n",
            "\n"
          ]
        },
        {
          "name": "stderr",
          "output_type": "stream",
          "text": [
            "installing the source package 'corrplot'\n",
            "\n",
            "corrplot 0.92 loaded\n"
          ]
        }
      ],
      "source": [
        "install.packages(\"corrplot\")\n",
        "library(corrplot)"
      ]
    },
    {
      "cell_type": "code",
      "execution_count": null,
      "id": "77b4eefe-a366-4ba8-96be-9df1a34a0cfd",
      "metadata": {
        "id": "77b4eefe-a366-4ba8-96be-9df1a34a0cfd",
        "outputId": "03c55441-114e-4037-d0cb-da9da76d1eeb"
      },
      "outputs": [
        {
          "data": {
            "image/png": "[encoded data removed]",
            "text/plain": [
              "Plot with title \"\""
            ]
          },
          "metadata": {},
          "output_type": "display_data"
        }
      ],
      "source": [
        "corrplot(insu_correl, type = \"upper\", order = \"hclust\",\n",
        "         tl.col = \"black\", tl.srt = 45)"
      ]
    },
    {
      "cell_type": "code",
      "execution_count": null,
      "id": "85c5d263-9b9c-42b2-bbc4-4b712372b092",
      "metadata": {
        "id": "85c5d263-9b9c-42b2-bbc4-4b712372b092"
      },
      "outputs": [],
      "source": [
        "#Step 3- Training a model on the data\n",
        "#to fit a linear regression model to data in R, the lm()\n",
        "#function can be used. this is included in the stats package which\n",
        "#a base package in R.\n",
        "\n",
        "ins_model <- lm(charges ~ age + children + bmi, data = insurance)"
      ]
    },
    {
      "cell_type": "code",
      "execution_count": null,
      "id": "f2b244f1-ed1e-488a-ad50-be017007ecb2",
      "metadata": {
        "id": "f2b244f1-ed1e-488a-ad50-be017007ecb2",
        "outputId": "916d549b-179d-436c-b2c3-649863405be9"
      },
      "outputs": [
        {
          "data": {
            "text/plain": [
              "\n",
              "Call:\n",
              "lm(formula = charges ~ age + children + bmi, data = insurance)\n",
              "\n",
              "Coefficients:\n",
              "(Intercept)          age     children          bmi  \n",
              "    -6916.2        240.0        542.9        332.1  \n"
            ]
          },
          "metadata": {},
          "output_type": "display_data"
        }
      ],
      "source": [
        "#CALLING THE MODEL\n",
        "ins_model\n"
      ]
    },
    {
      "cell_type": "code",
      "execution_count": null,
      "id": "8c2cd59b-5bc9-4a7d-94c1-325ccd039f4b",
      "metadata": {
        "id": "8c2cd59b-5bc9-4a7d-94c1-325ccd039f4b",
        "outputId": "c4c5bdb1-fe5f-49a2-8044-031c2515445f"
      },
      "outputs": [
        {
          "data": {
            "text/plain": [
              "\n",
              "Call:\n",
              "lm(formula = charges ~ age + children + bmi, data = insurance)\n",
              "\n",
              "Residuals:\n",
              "   Min     1Q Median     3Q    Max \n",
              "-13884  -6994  -5092   7125  48627 \n",
              "\n",
              "Coefficients:\n",
              "            Estimate Std. Error t value Pr(>|t|)    \n",
              "(Intercept) -6916.24    1757.48  -3.935 8.74e-05 ***\n",
              "age           239.99      22.29  10.767  < 2e-16 ***\n",
              "children      542.86     258.24   2.102   0.0357 *  \n",
              "bmi           332.08      51.31   6.472 1.35e-10 ***\n",
              "---\n",
              "Signif. codes:  0 '***' 0.001 '**' 0.01 '*' 0.05 '.' 0.1 ' ' 1\n",
              "\n",
              "Residual standard error: 11370 on 1334 degrees of freedom\n",
              "Multiple R-squared:  0.1201,\tAdjusted R-squared:  0.1181 \n",
              "F-statistic: 60.69 on 3 and 1334 DF,  p-value: < 2.2e-16\n"
            ]
          },
          "metadata": {},
          "output_type": "display_data"
        },
        {
          "data": {
            "text/plain": [
              "\n",
              "  no  yes \n",
              "1064  274 "
            ]
          },
          "metadata": {},
          "output_type": "display_data"
        }
      ],
      "source": [
        "#Step 4 - Evaluating the model Performance\n",
        "\n",
        "summary(ins_model)\n",
        "table(insurance$smoker)"
      ]
    },
    {
      "cell_type": "code",
      "execution_count": null,
      "id": "725a1d34-59bc-4bdf-8272-33c24e8b1b90",
      "metadata": {
        "id": "725a1d34-59bc-4bdf-8272-33c24e8b1b90",
        "outputId": "1537b6f5-da05-4c4e-a939-4e167345b361"
      },
      "outputs": [
        {
          "data": {
            "text/html": [
              "<table>\n",
              "<thead><tr><th scope=col>age</th><th scope=col>sex</th><th scope=col>bmi</th><th scope=col>children</th><th scope=col>smoker</th><th scope=col>region</th><th scope=col>charges</th><th scope=col>age2</th></tr></thead>\n",
              "<tbody>\n",
              "\t<tr><td>19       </td><td>female   </td><td>27.900   </td><td>0        </td><td>yes      </td><td>southwest</td><td>16884.924</td><td> 361     </td></tr>\n",
              "\t<tr><td>18       </td><td>male     </td><td>33.770   </td><td>1        </td><td>no       </td><td>southeast</td><td> 1725.552</td><td> 324     </td></tr>\n",
              "\t<tr><td>28       </td><td>male     </td><td>33.000   </td><td>3        </td><td>no       </td><td>southeast</td><td> 4449.462</td><td> 784     </td></tr>\n",
              "\t<tr><td>33       </td><td>male     </td><td>22.705   </td><td>0        </td><td>no       </td><td>northwest</td><td>21984.471</td><td>1089     </td></tr>\n",
              "\t<tr><td>32       </td><td>male     </td><td>28.880   </td><td>0        </td><td>no       </td><td>northwest</td><td> 3866.855</td><td>1024     </td></tr>\n",
              "\t<tr><td>31       </td><td>female   </td><td>25.740   </td><td>0        </td><td>no       </td><td>southeast</td><td> 3756.622</td><td> 961     </td></tr>\n",
              "</tbody>\n",
              "</table>\n"
            ],
            "text/latex": [
              "\\begin{tabular}{r|llllllll}\n",
              " age & sex & bmi & children & smoker & region & charges & age2\\\\\n",
              "\\hline\n",
              "\t 19        & female    & 27.900    & 0         & yes       & southwest & 16884.924 &  361     \\\\\n",
              "\t 18        & male      & 33.770    & 1         & no        & southeast &  1725.552 &  324     \\\\\n",
              "\t 28        & male      & 33.000    & 3         & no        & southeast &  4449.462 &  784     \\\\\n",
              "\t 33        & male      & 22.705    & 0         & no        & northwest & 21984.471 & 1089     \\\\\n",
              "\t 32        & male      & 28.880    & 0         & no        & northwest &  3866.855 & 1024     \\\\\n",
              "\t 31        & female    & 25.740    & 0         & no        & southeast &  3756.622 &  961     \\\\\n",
              "\\end{tabular}\n"
            ],
            "text/markdown": [
              "\n",
              "| age | sex | bmi | children | smoker | region | charges | age2 |\n",
              "|---|---|---|---|---|---|---|---|\n",
              "| 19        | female    | 27.900    | 0         | yes       | southwest | 16884.924 |  361      |\n",
              "| 18        | male      | 33.770    | 1         | no        | southeast |  1725.552 |  324      |\n",
              "| 28        | male      | 33.000    | 3         | no        | southeast |  4449.462 |  784      |\n",
              "| 33        | male      | 22.705    | 0         | no        | northwest | 21984.471 | 1089      |\n",
              "| 32        | male      | 28.880    | 0         | no        | northwest |  3866.855 | 1024      |\n",
              "| 31        | female    | 25.740    | 0         | no        | southeast |  3756.622 |  961      |\n",
              "\n"
            ],
            "text/plain": [
              "  age sex    bmi    children smoker region    charges   age2\n",
              "1 19  female 27.900 0        yes    southwest 16884.924  361\n",
              "2 18  male   33.770 1        no     southeast  1725.552  324\n",
              "3 28  male   33.000 3        no     southeast  4449.462  784\n",
              "4 33  male   22.705 0        no     northwest 21984.471 1089\n",
              "5 32  male   28.880 0        no     northwest  3866.855 1024\n",
              "6 31  female 25.740 0        no     southeast  3756.622  961"
            ]
          },
          "metadata": {},
          "output_type": "display_data"
        }
      ],
      "source": [
        "#Step 5 - Improving the model\n",
        "\n",
        "insurance$age2 <- insurance$age^2\n",
        "head(insurance)"
      ]
    },
    {
      "cell_type": "code",
      "execution_count": null,
      "id": "c6462ee6-aab0-45b7-990c-8e79d38e5190",
      "metadata": {
        "id": "c6462ee6-aab0-45b7-990c-8e79d38e5190"
      },
      "outputs": [],
      "source": [
        "insurance$bmi30 <- ifelse(insurance$bmi >= 30, 1,0)"
      ]
    },
    {
      "cell_type": "code",
      "execution_count": null,
      "id": "669732ee-23be-44cc-ae7b-75d3cd5bf90c",
      "metadata": {
        "id": "669732ee-23be-44cc-ae7b-75d3cd5bf90c"
      },
      "outputs": [],
      "source": [
        "ins_model2 <-lm(charges ~ age2 + children + bmi + sex + bmi30*smoker + region, \n",
        "                data = insurance)"
      ]
    },
    {
      "cell_type": "code",
      "execution_count": null,
      "id": "65c09f8c-50a8-4ce6-9f1e-c96169c5569d",
      "metadata": {
        "id": "65c09f8c-50a8-4ce6-9f1e-c96169c5569d",
        "outputId": "d09dac3e-490d-4625-dea5-0a93dff8085b"
      },
      "outputs": [
        {
          "data": {
            "text/plain": [
              "\n",
              "Call:\n",
              "lm(formula = charges ~ age2 + children + bmi + sex + bmi30 * \n",
              "    smoker + region, data = insurance)\n",
              "\n",
              "Residuals:\n",
              "     Min       1Q   Median       3Q      Max \n",
              "-17401.1  -1645.0  -1269.5   -746.6  24243.3 \n",
              "\n",
              "Coefficients:\n",
              "                  Estimate Std. Error t value Pr(>|t|)    \n",
              "(Intercept)      -414.4423   920.9017  -0.450 0.652755    \n",
              "age2                3.3282     0.1088  30.581  < 2e-16 ***\n",
              "children          661.1365   100.9391   6.550 8.22e-11 ***\n",
              "bmi               119.2718    34.2297   3.484 0.000509 ***\n",
              "sexmale          -495.7472   244.2934  -2.029 0.042626 *  \n",
              "bmi30            -985.5475   421.8842  -2.336 0.019636 *  \n",
              "smokeryes       13404.4108   439.8325  30.476  < 2e-16 ***\n",
              "regionnorthwest  -277.7562   349.1722  -0.795 0.426482    \n",
              "regionsoutheast  -827.1352   351.5327  -2.353 0.018771 *  \n",
              "regionsouthwest -1222.6434   350.4358  -3.489 0.000501 ***\n",
              "bmi30:smokeryes 19810.0536   604.4955  32.771  < 2e-16 ***\n",
              "---\n",
              "Signif. codes:  0 '***' 0.001 '**' 0.01 '*' 0.05 '.' 0.1 ' ' 1\n",
              "\n",
              "Residual standard error: 4444 on 1327 degrees of freedom\n",
              "Multiple R-squared:  0.8664,\tAdjusted R-squared:  0.8654 \n",
              "F-statistic: 860.3 on 10 and 1327 DF,  p-value: < 2.2e-16\n"
            ]
          },
          "metadata": {},
          "output_type": "display_data"
        }
      ],
      "source": [
        "summary(ins_model2)"
      ]
    },
    {
      "cell_type": "code",
      "execution_count": null,
      "id": "e51500d1-953a-4dd7-a811-de69fbba3973",
      "metadata": {
        "id": "e51500d1-953a-4dd7-a811-de69fbba3973"
      },
      "outputs": [],
      "source": [
        ""
      ]
    }
  ],
  "metadata": {
    "kernelspec": {
      "display_name": "R",
      "language": "R",
      "name": "ir"
    },
    "language_info": {
      "codemirror_mode": "r",
      "file_extension": ".r",
      "mimetype": "text/x-r-source",
      "name": "R",
      "pygments_lexer": "r",
      "version": "4.0.5"
    },
    "colab": {
      "name": "Niit Linear Regression.ipynb",
      "provenance": [],
      "include_colab_link": true
    }
  },
  "nbformat": 4,
  "nbformat_minor": 5
}